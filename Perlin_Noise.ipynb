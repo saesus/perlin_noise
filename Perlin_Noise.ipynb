{
  "nbformat": 4,
  "nbformat_minor": 0,
  "metadata": {
    "colab": {
      "name": "Perlin Noise.ipynb",
      "provenance": [],
      "collapsed_sections": [
        "uaYfFJiXUdIa",
        "qjVTqD-KUUc7",
        "To6wp4z9UROR",
        "zKK3nEsLUZ8p",
        "yHToR8pWUlP2",
        "oGzjCS8VUJOS",
        "693x7TpCUOOO"
      ],
      "toc_visible": true
    },
    "kernelspec": {
      "name": "python3",
      "display_name": "Python 3"
    },
    "language_info": {
      "name": "python"
    }
  },
  "cells": [
    {
      "cell_type": "markdown",
      "metadata": {
        "id": "uaYfFJiXUdIa"
      },
      "source": [
        "# Setup"
      ]
    },
    {
      "cell_type": "markdown",
      "metadata": {
        "id": "qjVTqD-KUUc7"
      },
      "source": [
        "## Libary Imports"
      ]
    },
    {
      "cell_type": "code",
      "metadata": {
        "id": "NfqbRDq7KUTn"
      },
      "source": [
        "import numpy as np\n",
        "import matplotlib.pyplot as plt\n",
        "import math"
      ],
      "execution_count": 1,
      "outputs": []
    },
    {
      "cell_type": "markdown",
      "metadata": {
        "id": "To6wp4z9UROR"
      },
      "source": [
        "## Random Number Seed Setup"
      ]
    },
    {
      "cell_type": "code",
      "metadata": {
        "id": "7orE5cudKV9L"
      },
      "source": [
        "np.random.seed(10)"
      ],
      "execution_count": 2,
      "outputs": []
    },
    {
      "cell_type": "markdown",
      "metadata": {
        "id": "zKK3nEsLUZ8p"
      },
      "source": [
        "## Function Definition"
      ]
    },
    {
      "cell_type": "code",
      "metadata": {
        "id": "5vAU7j7PKcrz"
      },
      "source": [
        "# Initialize Permutation Table\n",
        "p = [None] * 512\n",
        "\n",
        "permutation = [ 151,160,137,91,90,15,\n",
        "   131,13,201,95,96,53,194,233,7,225,140,36,103,30,69,142,8,99,37,240,21,10,23,\n",
        "   190, 6,148,247,120,234,75,0,26,197,62,94,252,219,203,117,35,11,32,57,177,33,\n",
        "   88,237,149,56,87,174,20,125,136,171,168, 68,175,74,165,71,134,139,48,27,166,\n",
        "   77,146,158,231,83,111,229,122,60,211,133,230,220,105,92,41,55,46,245,40,244,\n",
        "   102,143,54, 65,25,63,161, 1,216,80,73,209,76,132,187,208, 89,18,169,200,196,\n",
        "   135,130,116,188,159,86,164,100,109,198,173,186, 3,64,52,217,226,250,124,123,\n",
        "   5,202,38,147,118,126,255,82,85,212,207,206,59,227,47,16,58,17,182,189,28,42,\n",
        "   223,183,170,213,119,248,152, 2,44,154,163, 70,221,153,101,155,167, 43,172,9,\n",
        "   129,22,39,253, 19,98,108,110,79,113,224,232,178,185, 112,104,218,246,97,228,\n",
        "   251,34,242,193,238,210,144,12,191,179,162,241, 81,51,145,235,249,14,239,107,\n",
        "   49,192,214, 31,181,199,106,157,184, 84,204,176,115,121,50,45,127, 4,150,254,\n",
        "   138,236,205,93,222,114,67,29,24,72,243,141,128,195,78,66,215,61,156,180\n",
        "];\n",
        "\n",
        "for i in range(0,256):\n",
        "  p[256+i] = p[i] = permutation[i]\n",
        "\n",
        "# 3D Perlin Noise\n",
        "def noise3d(x,y,z):\n",
        "  # Find unit cube\n",
        "  X = int(math.floor(x))#  & 255\n",
        "  Y = int(math.floor(y))# & 255\n",
        "  Z = int(math.floor(z))# & 255\n",
        "\n",
        "  # Find relative x,y,z in unit cube\n",
        "  x -= math.floor(x)\n",
        "  y -= math.floor(y)\n",
        "  z -= math.floor(z)\n",
        "\n",
        "  # Compute smooth-step \n",
        "  u = fade(x)\n",
        "  v = fade(y)\n",
        "  w = fade(z)\n",
        "  \n",
        "  A = p[X  ]+Y\n",
        "  AA = p[A]+Z\n",
        "  AB = p[A+1]+Z      # HASH COORDINATES OF\n",
        "  B = p[X+1]+Y\n",
        "  BA = p[B]+Z\n",
        "  BB = p[B+1]+Z      # THE 8 CUBE CORNERS,\n",
        "\n",
        "  c0 = lerp(u, grad(p[AA  ], x  , y  , z   ), grad(p[BA  ], x-1, y  , z   ))\n",
        "  c1 = lerp(u, grad(p[AB  ], x  , y-1, z   ), grad(p[BB  ], x-1, y-1, z   ))\n",
        "  \n",
        "  c2 = lerp(u, grad(p[AA+1], x  , y  , z-1 ), grad(p[BA+1], x-1, y  , z-1 ))\n",
        "  c3 = lerp(u, grad(p[AB+1], x  , y-1, z-1 ), grad(p[BB+1], x-1, y-1, z-1 ))\n",
        "  \n",
        "  c00 = lerp(v, c0, c1)\n",
        "  c01 = lerp(v, c2, c3)\n",
        "\n",
        "  return lerp(w, c00, c01)\n",
        "  \n",
        "# 2D Perlin Noise\n",
        "def noise2d(x,y):\n",
        "  X = int(math.floor(x))# & 255   \n",
        "  Y = int(math.floor(y))# & 255  \n",
        "\n",
        "  x -= math.floor(x)\n",
        "  y -= math.floor(y)\n",
        "\n",
        "  u = fade(x)\n",
        "  v = fade(y)\n",
        "  \n",
        "  A = p[X  ]+Y\n",
        "  B = p[X+1]+Y\n",
        "  return lerp(v, lerp(u, grad2d(p[A  ], x  , y), grad2d(p[B  ], x-1, y)),\n",
        "                 lerp(u, grad2d(p[A+1], x  , y-1), grad2d(p[B+1], x-1, y-1)))\n",
        "\n",
        "np.random.seed(10)\n",
        "lattice1d = np.random.rand(11)\n",
        "\n",
        "# 1D Perlin Noise\n",
        "def noise1d(x):\n",
        "  X = int(math.floor(x))# & 255\n",
        "\n",
        "  x -= math.floor(x)\n",
        "  \n",
        "  u = fade(x)\n",
        "  \n",
        "  return lerp(x, lattice1d[X], lattice1d[X+1])\n",
        "\n",
        "# Improved smoothstep interpolation\n",
        "def fade(t):\n",
        "  return t * t * t * (t * (t * 6 - 15) + 10) \n",
        "\n",
        "# Smoothstep interpolation\n",
        "def fade_old(t):\n",
        "  return (3 * t * t) - (2 * t * t * t)\n",
        "\n",
        "# Linear interpolation\n",
        "def lerp(t, a, b):\n",
        " return a + t * (b - a)\n",
        "\n",
        "# 3D unit gradient retrieval function\n",
        "def grad(hash : int, x, y, z):\n",
        "    switcher = {\n",
        "        0x0: x + y,\n",
        "        0x1:-x + y,\n",
        "        0x2: x - y,\n",
        "        0x3:-x - y,\n",
        "        0x4: x + z,\n",
        "        0x5:-x + z,\n",
        "        0x6: x - z,\n",
        "        0x7:-x - z,\n",
        "        0x8: y + z,\n",
        "        0x9:-y + z,\n",
        "        0xA: y - z,\n",
        "        0xB:-y - z,\n",
        "        0xC: y + x,\n",
        "        0xD:-y + z,\n",
        "        0xE: y - x,\n",
        "        0xF:-y - z\n",
        "    }\n",
        "\n",
        "    return switcher.get(hash & 0xF)\n",
        "\n",
        "# 2D unit gradient retrieval function\n",
        "def grad2d(hash : int, x, y):\n",
        "    if (hash & 1):\n",
        "      x = x\n",
        "    else: \n",
        "      x =-x\n",
        "    if (hash & 2):\n",
        "      y = y \n",
        "    else:\n",
        "      y = -y  \n",
        "    return x + y"
      ],
      "execution_count": 3,
      "outputs": []
    },
    {
      "cell_type": "markdown",
      "metadata": {
        "id": "yHToR8pWUlP2"
      },
      "source": [
        "# 1D Perlin Noise"
      ]
    },
    {
      "cell_type": "code",
      "metadata": {
        "id": "QQg-RIXfda6s"
      },
      "source": [
        "x_vals = []\n",
        "y_vals = []\n",
        "\n",
        "# To unsmooth function, comment out \"u = fade(x)\"\n",
        "\n",
        "for x in np.arange(0, 10, 0.01):\n",
        "  x_vals.append(x)\n",
        "  y_vals.append(noise1d(x))\n",
        "\n",
        "plt.plot(x_vals, y_vals)\n",
        "plt.show()"
      ],
      "execution_count": null,
      "outputs": []
    },
    {
      "cell_type": "markdown",
      "metadata": {
        "id": "oGzjCS8VUJOS"
      },
      "source": [
        "# 2D Perlin Noise"
      ]
    },
    {
      "cell_type": "markdown",
      "metadata": {
        "id": "c8p1UF8yU2Dc"
      },
      "source": [
        "## Purely Random Noise"
      ]
    },
    {
      "cell_type": "code",
      "metadata": {
        "id": "53pHLmYVoPEK"
      },
      "source": [
        "heightmap = []\n",
        "for y in np.arange(0, 100, 1):\n",
        "  for x in np.arange(0, 100, 1):\n",
        "    heightmap.append(np.random.rand(1))\n",
        "\n",
        "heightmap = np.array(heightmap).reshape((100, 100))\n",
        "plt.imshow(heightmap, cmap='gray')\n",
        "plt.show()"
      ],
      "execution_count": null,
      "outputs": []
    },
    {
      "cell_type": "markdown",
      "metadata": {
        "id": "1bsNthAzZN9C"
      },
      "source": [
        "## Smoothstep Interpolated Noise"
      ]
    },
    {
      "cell_type": "code",
      "metadata": {
        "id": "hTYfss7OK47d"
      },
      "source": [
        "heightmap = []\n",
        "for y in np.arange(0, 10, 0.1):\n",
        "  for x in np.arange(0, 10, 0.1):\n",
        "    heightmap.append(noise2d(x,y))\n",
        "\n",
        "heightmap = np.array(heightmap).reshape((100, 100))\n",
        "plt.imshow(heightmap, cmap='gray')\n",
        "plt.show()"
      ],
      "execution_count": null,
      "outputs": []
    },
    {
      "cell_type": "markdown",
      "metadata": {
        "id": "693x7TpCUOOO"
      },
      "source": [
        "# 3D Perlin Noise "
      ]
    },
    {
      "cell_type": "code",
      "metadata": {
        "id": "KQhA8HJWlXNO"
      },
      "source": [
        "xg = []\n",
        "yg = []\n",
        "zg = []\n",
        "heightmap2 = []\n",
        "for z in np.arange(0,10,0.5):\n",
        "  for y in np.arange(0, 10, 0.5):\n",
        "    for x in np.arange(0, 10, 0.5):\n",
        "      xg.append(x)\n",
        "      yg.append(y)\n",
        "      zg.append(z)\n",
        "      heightmap2.append(noise3d(x,y,z))"
      ],
      "execution_count": 7,
      "outputs": []
    },
    {
      "cell_type": "code",
      "metadata": {
        "id": "GYjafW5Ml3cL"
      },
      "source": [
        "ax = plt.axes(projection='3d')\n",
        "ax.scatter(xg, yg, zg, c=heightmap2, cmap='viridis')"
      ],
      "execution_count": null,
      "outputs": []
    }
  ]
}